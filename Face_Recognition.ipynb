{
  "nbformat": 4,
  "nbformat_minor": 0,
  "metadata": {
    "colab": {
      "name": "Face_Recognition",
      "provenance": [],
      "mount_file_id": "1FXlVGny26ZJUmCLBGuOWoW1Q1pi2dZb6",
      "authorship_tag": "ABX9TyPewBZzsGo+uvQ1sDqJmuCB",
      "include_colab_link": true
    },
    "kernelspec": {
      "name": "python3",
      "display_name": "Python 3"
    },
    "language_info": {
      "name": "python"
    }
  },
  "cells": [
    {
      "cell_type": "markdown",
      "metadata": {
        "id": "view-in-github",
        "colab_type": "text"
      },
      "source": [
        "<a href=\"https://colab.research.google.com/github/xerxes786/Face_recognition-Using-SVM/blob/main/Face_Recognition.ipynb\" target=\"_parent\"><img src=\"https://colab.research.google.com/assets/colab-badge.svg\" alt=\"Open In Colab\"/></a>"
      ]
    },
    {
      "cell_type": "code",
      "source": [
        "from google.colab import drive\n",
        "drive.mount('/content/drive')"
      ],
      "metadata": {
        "colab": {
          "base_uri": "https://localhost:8080/"
        },
        "id": "CgfCqoBRl4Xi",
        "outputId": "151d8a86-5418-4156-a082-a009e1a43bb5"
      },
      "execution_count": null,
      "outputs": [
        {
          "output_type": "stream",
          "name": "stdout",
          "text": [
            "Drive already mounted at /content/drive; to attempt to forcibly remount, call drive.mount(\"/content/drive\", force_remount=True).\n"
          ]
        }
      ]
    },
    {
      "cell_type": "code",
      "execution_count": null,
      "metadata": {
        "id": "X-jzLtgXj0mD"
      },
      "outputs": [],
      "source": [
        "from PIL import Image\n",
        "import os\n",
        "import re\n",
        "\n",
        "import matplotlib.pyplot as plt\n",
        "import numpy as np\n",
        "\n",
        "import pylab as pl\n",
        "from matplotlib import pyplot as plt\n",
        "from sklearn.model_selection import train_test_split\n",
        "from sklearn.model_selection import GridSearchCV\n",
        "from sklearn.metrics import classification_report\n",
        "from sklearn.decomposition import PCA\n",
        "from sklearn.svm import SVC\n",
        "\n",
        "from skimage.feature import hog"
      ]
    },
    {
      "cell_type": "code",
      "source": [
        "folder='/content/drive/MyDrive/a1_TrainingPhotos'\n",
        "images = []\n",
        "i=0\n",
        "\n",
        "X=[]\n",
        "Y=[]\n",
        "\n",
        "for filename in os.listdir(folder):   \n",
        "    img = Image.open(os.path.join(folder,filename)) \n",
        "\n",
        "    img=img.resize([32,64]) \n",
        "    \n",
        "    xyz, hog_image = hog(img, orientations=9, pixels_per_cell=(4,4), cells_per_block=(2, 2), visualize=True, multichannel=True)\n",
        "    \n",
        "    X.append(xyz)\n",
        "    \n",
        "    if re.match(\"Amir*\", filename):\n",
        "      Yt=0\n",
        "    elif re.match(\"Jaya*\", filename):\n",
        "      Yt=1\n",
        "    elif re.match(\"Hir*\", filename):\n",
        "      Yt=2\n",
        "    elif re.match(\"Anupam*\", filename):\n",
        "      Yt=3\n",
        "    else:\n",
        "      Yt=4\n",
        "\n",
        "    Y.append(Yt)"
      ],
      "metadata": {
        "id": "PhiFT6LIkNFT"
      },
      "execution_count": null,
      "outputs": []
    },
    {
      "cell_type": "code",
      "source": [
        "xyz.shape"
      ],
      "metadata": {
        "colab": {
          "base_uri": "https://localhost:8080/"
        },
        "id": "4UPTF1Y_ko3R",
        "outputId": "2595a24f-cc3d-4b82-84d3-736770be7af7"
      },
      "execution_count": null,
      "outputs": [
        {
          "output_type": "execute_result",
          "data": {
            "text/plain": [
              "(3780,)"
            ]
          },
          "metadata": {},
          "execution_count": 9
        }
      ]
    },
    {
      "cell_type": "code",
      "source": [
        "target_names=['AamirKhan', 'JayaBadhuri', 'HritikRoshan', 'AnupamKher']"
      ],
      "metadata": {
        "id": "ZpgtWPjUks4r"
      },
      "execution_count": null,
      "outputs": []
    },
    {
      "cell_type": "code",
      "source": [
        "X_train, X_test, y_train, y_test = train_test_split(X, Y, test_size=0.2, random_state=42)"
      ],
      "metadata": {
        "id": "fD-eb1JZkvRL"
      },
      "execution_count": null,
      "outputs": []
    },
    {
      "cell_type": "code",
      "source": [
        "n_components = 25\n",
        "pca = PCA(n_components=n_components, whiten=True).fit(X_train)\n",
        "\n",
        "X_train_pca = pca.transform(X_train)\n",
        "X_test_pca = pca.transform(X_test)"
      ],
      "metadata": {
        "id": "Y6AGQeejkxMs"
      },
      "execution_count": null,
      "outputs": []
    },
    {
      "cell_type": "code",
      "source": [
        "import pickle as pk\n",
        "pk.dump(pca, open(\"FR_1.pkl\",\"wb\"))"
      ],
      "metadata": {
        "id": "xpDOl9mkk2Wq"
      },
      "execution_count": null,
      "outputs": []
    },
    {
      "cell_type": "code",
      "source": [
        "print(\"Fitting the classifier to the training set\")\n",
        "param_grid = {\n",
        "         'C': [1e3, 5e3, 1e4, 5e4, 1e5],\n",
        "          'gamma': [0.0001, 0.0005, 0.001, 0.005, 0.01, 0.1],\n",
        "          }\n",
        "clf = GridSearchCV(SVC(kernel='rbf', class_weight='balanced',probability=True), param_grid)\n",
        "clf = clf.fit(X_train_pca, y_train)\n",
        "print(\"Best estimator found by grid search:\")\n",
        "print(clf.best_estimator_)"
      ],
      "metadata": {
        "colab": {
          "base_uri": "https://localhost:8080/"
        },
        "id": "n_ZwQokhk4yh",
        "outputId": "dad77d7a-ae4e-403c-8b1e-ecbf7f13052b"
      },
      "execution_count": null,
      "outputs": [
        {
          "output_type": "stream",
          "name": "stdout",
          "text": [
            "Fitting the classifier to the training set\n",
            "Best estimator found by grid search:\n",
            "SVC(C=1000.0, class_weight='balanced', gamma=0.1, probability=True)\n"
          ]
        }
      ]
    },
    {
      "cell_type": "code",
      "source": [
        "import joblib\n",
        "joblib.dump(clf.best_estimator_, 'FR_svm_classifier.pkl', compress = 1)"
      ],
      "metadata": {
        "colab": {
          "base_uri": "https://localhost:8080/"
        },
        "id": "HRRQWc97k46F",
        "outputId": "9efa5251-54b5-4a35-fa3a-ee108ca57f03"
      },
      "execution_count": null,
      "outputs": [
        {
          "output_type": "execute_result",
          "data": {
            "text/plain": [
              "['FR_svm_classifier.pkl']"
            ]
          },
          "metadata": {},
          "execution_count": 15
        }
      ]
    },
    {
      "cell_type": "code",
      "source": [
        "y_pred = clf.predict(X_test_pca)\n",
        "y_pred"
      ],
      "metadata": {
        "colab": {
          "base_uri": "https://localhost:8080/"
        },
        "id": "nObHT9x9k9lf",
        "outputId": "d4a00c58-cac7-4a7f-d055-464e20974307"
      },
      "execution_count": null,
      "outputs": [
        {
          "output_type": "execute_result",
          "data": {
            "text/plain": [
              "array([1, 0, 0, 2, 1, 0, 0, 0, 0, 1, 1, 1, 0, 3, 0, 0, 2, 0, 2, 1, 0, 0,\n",
              "       1, 0, 1, 0, 0, 3, 2, 2, 0, 1, 3, 0, 0, 0, 0, 2, 0, 0, 0, 1, 2, 0,\n",
              "       1, 1, 0, 0, 0, 0, 0, 0, 0, 0, 0, 0, 1, 0, 0, 1, 1, 1, 3, 1, 0, 0,\n",
              "       2, 0, 0, 0, 1, 0, 0, 0, 0, 2, 0, 0, 0, 0, 0, 1, 0, 1, 1, 1, 0, 2,\n",
              "       1, 0, 0, 0, 0, 3, 0, 1, 0, 0, 0, 3, 1, 1, 0, 2, 2, 2, 1])"
            ]
          },
          "metadata": {},
          "execution_count": 16
        }
      ]
    },
    {
      "cell_type": "code",
      "source": [
        "print(classification_report(y_test, y_pred))"
      ],
      "metadata": {
        "colab": {
          "base_uri": "https://localhost:8080/"
        },
        "id": "oYNOJuf6k_s_",
        "outputId": "c2c3df4a-2cef-4775-855e-9b119e0e97a5"
      },
      "execution_count": null,
      "outputs": [
        {
          "output_type": "stream",
          "name": "stdout",
          "text": [
            "              precision    recall  f1-score   support\n",
            "\n",
            "           0       0.75      0.94      0.84        49\n",
            "           1       0.93      0.81      0.86        31\n",
            "           2       0.69      0.53      0.60        17\n",
            "           3       1.00      0.60      0.75        10\n",
            "\n",
            "    accuracy                           0.80       107\n",
            "   macro avg       0.84      0.72      0.76       107\n",
            "weighted avg       0.82      0.80      0.80       107\n",
            "\n"
          ]
        }
      ]
    }
  ]
}